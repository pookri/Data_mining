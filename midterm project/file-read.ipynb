{
 "cells": [
  {
   "cell_type": "code",
   "execution_count": 3,
   "metadata": {},
   "outputs": [
    {
     "ename": "ModuleNotFoundError",
     "evalue": "No module named 'tabulate'",
     "output_type": "error",
     "traceback": [
      "\u001b[1;31m---------------------------------------------------------------------------\u001b[0m",
      "\u001b[1;31mModuleNotFoundError\u001b[0m                       Traceback (most recent call last)",
      "\u001b[1;32m<ipython-input-3-ccd7e553f7b3>\u001b[0m in \u001b[0;36m<module>\u001b[1;34m\u001b[0m\n\u001b[1;32m----> 1\u001b[1;33m \u001b[1;32mfrom\u001b[0m \u001b[0mtabulate\u001b[0m \u001b[1;32mimport\u001b[0m \u001b[0mtabulate\u001b[0m\u001b[1;33m\u001b[0m\u001b[1;33m\u001b[0m\u001b[0m\n\u001b[0m\u001b[0;32m      2\u001b[0m \u001b[1;32mdef\u001b[0m \u001b[0mremove_newlines\u001b[0m\u001b[1;33m(\u001b[0m\u001b[0mfname\u001b[0m\u001b[1;33m)\u001b[0m\u001b[1;33m:\u001b[0m\u001b[1;33m\u001b[0m\u001b[1;33m\u001b[0m\u001b[0m\n\u001b[0;32m      3\u001b[0m     \u001b[0mflist\u001b[0m \u001b[1;33m=\u001b[0m \u001b[0mopen\u001b[0m\u001b[1;33m(\u001b[0m\u001b[0mfname\u001b[0m\u001b[1;33m)\u001b[0m\u001b[1;33m.\u001b[0m\u001b[0mreadlines\u001b[0m\u001b[1;33m(\u001b[0m\u001b[1;33m)\u001b[0m\u001b[1;33m\u001b[0m\u001b[1;33m\u001b[0m\u001b[0m\n\u001b[0;32m      4\u001b[0m     \u001b[1;32mreturn\u001b[0m \u001b[1;33m[\u001b[0m\u001b[0ms\u001b[0m\u001b[1;33m.\u001b[0m\u001b[0mrstrip\u001b[0m\u001b[1;33m(\u001b[0m\u001b[1;34m'\\n'\u001b[0m\u001b[1;33m)\u001b[0m \u001b[1;32mfor\u001b[0m \u001b[0ms\u001b[0m \u001b[1;32min\u001b[0m \u001b[0mflist\u001b[0m\u001b[1;33m]\u001b[0m\u001b[1;33m\u001b[0m\u001b[1;33m\u001b[0m\u001b[0m\n\u001b[0;32m      5\u001b[0m \u001b[1;33m\u001b[0m\u001b[0m\n",
      "\u001b[1;31mModuleNotFoundError\u001b[0m: No module named 'tabulate'"
     ]
    }
   ],
   "source": [
    "from tabulate import tabulate\n",
    "def remove_newlines(fname):\n",
    "    flist = open(fname).readlines()\n",
    "    return [s.rstrip('\\n') for s in flist]\n",
    "\n",
    "\n",
    "db1=open('Transaction1.txt')\n",
    "#test=db1.split(\",\")\n",
    "res=dict()\n",
    "lines=[]\n",
    "itemDict = {}\n",
    "i = 0\n",
    "for f in db1:\n",
    "    f = f.rstrip('\\n')\n",
    "    line = f.split(\",\")\n",
    "    for item in line: \n",
    "        if (item in itemDict.keys()):\n",
    "            itemDict[item] = itemDict[item] + 1\n",
    "        else: \n",
    "            itemDict[item] = 1\n",
    "\"\"\"\n",
    "for i in range(1,6):\n",
    "    lines.append( {i:itemDict} )\n",
    "    i = i + 1\n",
    "for l in lines: \n",
    "    print(l) \"\"\"  \n",
    "print(tabulate(lines,headers=[\"items\",\"support\"]))\n",
    "db1.close()\n",
    "#for idx, ele in lines:\n",
    "#    res[idx] = ele\n",
    "#    print(res)"
   ]
  },
  {
   "cell_type": "markdown",
   "metadata": {},
   "source": []
  },
  {
   "cell_type": "code",
   "execution_count": null,
   "metadata": {},
   "outputs": [],
   "source": [
    "temp = test_str.split(\",\")\n",
    " \n",
    "res = dict()\n",
    " \n",
    "# using loop to reform dictionary with splits\n",
    "for idx, ele in enumerate(temp):\n",
    "    res[idx] = ele\n",
    " \n",
    "# printing result\n",
    "print(\"Dictionary after splits ordering : \"\n",
    "      + str(res))"
   ]
  }
 ],
 "metadata": {
  "interpreter": {
   "hash": "94f80f334e1b7cb84964a07f4a141096ce640e30667c7f841f8e49bc966880ac"
  },
  "kernelspec": {
   "display_name": "Python 3.8.8 64-bit ('base': conda)",
   "language": "python",
   "name": "python3"
  },
  "language_info": {
   "codemirror_mode": {
    "name": "ipython",
    "version": 3
   },
   "file_extension": ".py",
   "mimetype": "text/x-python",
   "name": "python",
   "nbconvert_exporter": "python",
   "pygments_lexer": "ipython3",
   "version": "3.8.12"
  },
  "orig_nbformat": 4
 },
 "nbformat": 4,
 "nbformat_minor": 2
}
